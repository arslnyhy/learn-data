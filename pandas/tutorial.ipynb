{
 "cells": [
  {
   "cell_type": "code",
   "execution_count": 95,
   "id": "0535c596",
   "metadata": {},
   "outputs": [
    {
     "data": {
      "text/plain": [
       "Name          object\n",
       "Age            int64\n",
       "Email         object\n",
       "Occupation    object\n",
       "dtype: object"
      ]
     },
     "execution_count": 95,
     "metadata": {},
     "output_type": "execute_result"
    }
   ],
   "source": [
    "import pandas as pd\n",
    "\n",
    "df = pd.read_csv(\"sample_people.csv\")\n",
    "# df.fillna(0)\n",
    "# df.dropna(inplace=False)\n",
    "# df.dropna(axis=1)\n",
    "# df.dropna(how=\"all\")\n",
    "# df.drop_duplicates()\n",
    "df.duplicated()\n",
    "df.dtypes"
   ]
  },
  {
   "cell_type": "code",
   "execution_count": 23,
   "id": "a70fb149",
   "metadata": {},
   "outputs": [
    {
     "data": {
      "text/html": [
       "<div>\n",
       "<style scoped>\n",
       "    .dataframe tbody tr th:only-of-type {\n",
       "        vertical-align: middle;\n",
       "    }\n",
       "\n",
       "    .dataframe tbody tr th {\n",
       "        vertical-align: top;\n",
       "    }\n",
       "\n",
       "    .dataframe thead th {\n",
       "        text-align: right;\n",
       "    }\n",
       "</style>\n",
       "<table border=\"1\" class=\"dataframe\">\n",
       "  <thead>\n",
       "    <tr style=\"text-align: right;\">\n",
       "      <th></th>\n",
       "      <th>Name</th>\n",
       "      <th>Age</th>\n",
       "      <th>Email</th>\n",
       "      <th>Occupation</th>\n",
       "    </tr>\n",
       "  </thead>\n",
       "  <tbody>\n",
       "    <tr>\n",
       "      <th>0</th>\n",
       "      <td>Alice Smith</td>\n",
       "      <td>28</td>\n",
       "      <td>alice.smith@email.com</td>\n",
       "      <td>Data Scientist</td>\n",
       "    </tr>\n",
       "    <tr>\n",
       "      <th>1</th>\n",
       "      <td>Bob Johnson</td>\n",
       "      <td>34</td>\n",
       "      <td>bob.johnson@email.com</td>\n",
       "      <td>Software Engineer</td>\n",
       "    </tr>\n",
       "    <tr>\n",
       "      <th>2</th>\n",
       "      <td>Carol Lee</td>\n",
       "      <td>25</td>\n",
       "      <td>carol.lee@email.com</td>\n",
       "      <td>Product Manager</td>\n",
       "    </tr>\n",
       "    <tr>\n",
       "      <th>3</th>\n",
       "      <td>David Kim</td>\n",
       "      <td>42</td>\n",
       "      <td>david.kim@email.com</td>\n",
       "      <td>Designer</td>\n",
       "    </tr>\n",
       "    <tr>\n",
       "      <th>4</th>\n",
       "      <td>Eve Turner</td>\n",
       "      <td>30</td>\n",
       "      <td>eve.turner@email.com</td>\n",
       "      <td>Data Analyst</td>\n",
       "    </tr>\n",
       "  </tbody>\n",
       "</table>\n",
       "</div>"
      ],
      "text/plain": [
       "          Name  Age                  Email         Occupation\n",
       "0  Alice Smith   28  alice.smith@email.com     Data Scientist\n",
       "1  Bob Johnson   34  bob.johnson@email.com  Software Engineer\n",
       "2    Carol Lee   25    carol.lee@email.com    Product Manager\n",
       "3    David Kim   42    david.kim@email.com           Designer\n",
       "4   Eve Turner   30   eve.turner@email.com      Data Analyst "
      ]
     },
     "execution_count": 23,
     "metadata": {},
     "output_type": "execute_result"
    }
   ],
   "source": [
    "df.head()"
   ]
  },
  {
   "cell_type": "code",
   "execution_count": 24,
   "id": "716936f3",
   "metadata": {},
   "outputs": [
    {
     "data": {
      "text/plain": [
       "Index(['Name', 'Age', 'Email', 'Occupation'], dtype='object')"
      ]
     },
     "execution_count": 24,
     "metadata": {},
     "output_type": "execute_result"
    }
   ],
   "source": [
    "df.columns"
   ]
  },
  {
   "cell_type": "code",
   "execution_count": 25,
   "id": "143ed83c",
   "metadata": {},
   "outputs": [
    {
     "data": {
      "text/plain": [
       "(5, 4)"
      ]
     },
     "execution_count": 25,
     "metadata": {},
     "output_type": "execute_result"
    }
   ],
   "source": [
    "df.shape"
   ]
  },
  {
   "cell_type": "code",
   "execution_count": 100,
   "id": "1c84211d",
   "metadata": {},
   "outputs": [
    {
     "name": "stdout",
     "output_type": "stream",
     "text": [
      "<class 'pandas.core.frame.DataFrame'>\n",
      "RangeIndex: 6 entries, 0 to 5\n",
      "Data columns (total 4 columns):\n",
      " #   Column      Non-Null Count  Dtype \n",
      "---  ------      --------------  ----- \n",
      " 0   Name        6 non-null      object\n",
      " 1   Age         6 non-null      int64 \n",
      " 2   Email       6 non-null      object\n",
      " 3   Occupation  6 non-null      object\n",
      "dtypes: int64(1), object(3)\n",
      "memory usage: 324.0+ bytes\n"
     ]
    }
   ],
   "source": [
    "df.info()"
   ]
  },
  {
   "cell_type": "code",
   "execution_count": 27,
   "id": "226429a0",
   "metadata": {},
   "outputs": [
    {
     "data": {
      "text/html": [
       "<div>\n",
       "<style scoped>\n",
       "    .dataframe tbody tr th:only-of-type {\n",
       "        vertical-align: middle;\n",
       "    }\n",
       "\n",
       "    .dataframe tbody tr th {\n",
       "        vertical-align: top;\n",
       "    }\n",
       "\n",
       "    .dataframe thead th {\n",
       "        text-align: right;\n",
       "    }\n",
       "</style>\n",
       "<table border=\"1\" class=\"dataframe\">\n",
       "  <thead>\n",
       "    <tr style=\"text-align: right;\">\n",
       "      <th></th>\n",
       "      <th>Age</th>\n",
       "    </tr>\n",
       "  </thead>\n",
       "  <tbody>\n",
       "    <tr>\n",
       "      <th>count</th>\n",
       "      <td>5.000000</td>\n",
       "    </tr>\n",
       "    <tr>\n",
       "      <th>mean</th>\n",
       "      <td>31.800000</td>\n",
       "    </tr>\n",
       "    <tr>\n",
       "      <th>std</th>\n",
       "      <td>6.572671</td>\n",
       "    </tr>\n",
       "    <tr>\n",
       "      <th>min</th>\n",
       "      <td>25.000000</td>\n",
       "    </tr>\n",
       "    <tr>\n",
       "      <th>25%</th>\n",
       "      <td>28.000000</td>\n",
       "    </tr>\n",
       "    <tr>\n",
       "      <th>50%</th>\n",
       "      <td>30.000000</td>\n",
       "    </tr>\n",
       "    <tr>\n",
       "      <th>75%</th>\n",
       "      <td>34.000000</td>\n",
       "    </tr>\n",
       "    <tr>\n",
       "      <th>max</th>\n",
       "      <td>42.000000</td>\n",
       "    </tr>\n",
       "  </tbody>\n",
       "</table>\n",
       "</div>"
      ],
      "text/plain": [
       "             Age\n",
       "count   5.000000\n",
       "mean   31.800000\n",
       "std     6.572671\n",
       "min    25.000000\n",
       "25%    28.000000\n",
       "50%    30.000000\n",
       "75%    34.000000\n",
       "max    42.000000"
      ]
     },
     "execution_count": 27,
     "metadata": {},
     "output_type": "execute_result"
    }
   ],
   "source": [
    "df.describe()"
   ]
  },
  {
   "cell_type": "code",
   "execution_count": 28,
   "id": "82070b51",
   "metadata": {},
   "outputs": [
    {
     "name": "stdout",
     "output_type": "stream",
     "text": [
      "0    88\n",
      "1    92\n",
      "2    79\n",
      "3    93\n",
      "dtype: int64\n"
     ]
    }
   ],
   "source": [
    "scores = [88, 92, 79, 93]\n",
    "\n",
    "s = pd.Series(scores)\n",
    "print(s)"
   ]
  },
  {
   "cell_type": "code",
   "execution_count": 30,
   "id": "01039225",
   "metadata": {},
   "outputs": [
    {
     "name": "stdout",
     "output_type": "stream",
     "text": [
      "Alice      88\n",
      "Bob        92\n",
      "Charlie    79\n",
      "David      93\n",
      "dtype: int64\n"
     ]
    }
   ],
   "source": [
    "names = [\"Alice\", \"Bob\", \"Charlie\", \"David\"]\n",
    "\n",
    "s2 = pd.Series(scores, index=names)\n",
    "print(s2)"
   ]
  },
  {
   "cell_type": "code",
   "execution_count": 44,
   "id": "f8323cda",
   "metadata": {},
   "outputs": [
    {
     "name": "stdout",
     "output_type": "stream",
     "text": [
      "0    Alice Smith\n",
      "1    Bob Johnson\n",
      "2      Carol Lee\n",
      "3      David Kim\n",
      "4     Eve Turner\n",
      "Name: Name, dtype: object\n",
      "==============================\n",
      "0    Alice Smith\n",
      "1    Bob Johnson\n",
      "2      Carol Lee\n",
      "3      David Kim\n",
      "4     Eve Turner\n",
      "Name: Name, dtype: object 0    28\n",
      "1    34\n",
      "2    25\n",
      "3    42\n",
      "4    30\n",
      "Name: Age, dtype: int64\n"
     ]
    }
   ],
   "source": [
    "print(df.Name)\n",
    "print(30 * \"=\")\n",
    "print(df.Name, df.Age)"
   ]
  },
  {
   "cell_type": "code",
   "execution_count": 9,
   "id": "70341415",
   "metadata": {},
   "outputs": [
    {
     "data": {
      "text/plain": [
       "Name                    Bob Johnson\n",
       "Age                              34\n",
       "Email         bob.johnson@email.com\n",
       "Occupation        Software Engineer\n",
       "Name: 1, dtype: object"
      ]
     },
     "execution_count": 9,
     "metadata": {},
     "output_type": "execute_result"
    }
   ],
   "source": [
    "df.loc[1]"
   ]
  },
  {
   "cell_type": "code",
   "execution_count": 16,
   "id": "caed6bdb",
   "metadata": {},
   "outputs": [
    {
     "name": "stdout",
     "output_type": "stream",
     "text": [
      "Bob Johnson\n",
      "34\n"
     ]
    }
   ],
   "source": [
    "print(df.iloc[1, 0])\n",
    "print(df.iloc[1, 1])"
   ]
  },
  {
   "cell_type": "code",
   "execution_count": null,
   "id": "bfbaf59c",
   "metadata": {},
   "outputs": [
    {
     "data": {
      "text/html": [
       "<div>\n",
       "<style scoped>\n",
       "    .dataframe tbody tr th:only-of-type {\n",
       "        vertical-align: middle;\n",
       "    }\n",
       "\n",
       "    .dataframe tbody tr th {\n",
       "        vertical-align: top;\n",
       "    }\n",
       "\n",
       "    .dataframe thead th {\n",
       "        text-align: right;\n",
       "    }\n",
       "</style>\n",
       "<table border=\"1\" class=\"dataframe\">\n",
       "  <thead>\n",
       "    <tr style=\"text-align: right;\">\n",
       "      <th></th>\n",
       "      <th>Name</th>\n",
       "      <th>Age</th>\n",
       "      <th>Email</th>\n",
       "      <th>Occupation</th>\n",
       "    </tr>\n",
       "  </thead>\n",
       "  <tbody>\n",
       "    <tr>\n",
       "      <th>0</th>\n",
       "      <td>Alice Smith</td>\n",
       "      <td>28</td>\n",
       "      <td>alice.smith@email.com</td>\n",
       "      <td>Data Scientist</td>\n",
       "    </tr>\n",
       "    <tr>\n",
       "      <th>1</th>\n",
       "      <td>Bob Johnson</td>\n",
       "      <td>34</td>\n",
       "      <td>bob.johnson@email.com</td>\n",
       "      <td>Software Engineer</td>\n",
       "    </tr>\n",
       "    <tr>\n",
       "      <th>2</th>\n",
       "      <td>Carol Lee</td>\n",
       "      <td>25</td>\n",
       "      <td>carol.lee@email.com</td>\n",
       "      <td>Product Manager</td>\n",
       "    </tr>\n",
       "  </tbody>\n",
       "</table>\n",
       "</div>"
      ],
      "text/plain": [
       "          Name  Age                  Email         Occupation\n",
       "0  Alice Smith   28  alice.smith@email.com     Data Scientist\n",
       "1  Bob Johnson   34  bob.johnson@email.com  Software Engineer\n",
       "2    Carol Lee   25    carol.lee@email.com    Product Manager"
      ]
     },
     "execution_count": 17,
     "metadata": {},
     "output_type": "execute_result"
    }
   ],
   "source": [
    "df.loc[0:2]"
   ]
  },
  {
   "cell_type": "code",
   "execution_count": 23,
   "id": "a61f16b0",
   "metadata": {},
   "outputs": [
    {
     "data": {
      "text/html": [
       "<div>\n",
       "<style scoped>\n",
       "    .dataframe tbody tr th:only-of-type {\n",
       "        vertical-align: middle;\n",
       "    }\n",
       "\n",
       "    .dataframe tbody tr th {\n",
       "        vertical-align: top;\n",
       "    }\n",
       "\n",
       "    .dataframe thead th {\n",
       "        text-align: right;\n",
       "    }\n",
       "</style>\n",
       "<table border=\"1\" class=\"dataframe\">\n",
       "  <thead>\n",
       "    <tr style=\"text-align: right;\">\n",
       "      <th></th>\n",
       "      <th>Name</th>\n",
       "      <th>Age</th>\n",
       "      <th>Email</th>\n",
       "      <th>Occupation</th>\n",
       "      <th>Employed</th>\n",
       "    </tr>\n",
       "  </thead>\n",
       "  <tbody>\n",
       "    <tr>\n",
       "      <th>0</th>\n",
       "      <td>Alice Smith</td>\n",
       "      <td>28</td>\n",
       "      <td>alice.smith@email.com</td>\n",
       "      <td>Data Scientist</td>\n",
       "      <td>True</td>\n",
       "    </tr>\n",
       "    <tr>\n",
       "      <th>1</th>\n",
       "      <td>Bob Johnson</td>\n",
       "      <td>34</td>\n",
       "      <td>bob.johnson@email.com</td>\n",
       "      <td>Software Engineer</td>\n",
       "      <td>True</td>\n",
       "    </tr>\n",
       "    <tr>\n",
       "      <th>2</th>\n",
       "      <td>Carol Lee</td>\n",
       "      <td>25</td>\n",
       "      <td>carol.lee@email.com</td>\n",
       "      <td>Product Manager</td>\n",
       "      <td>True</td>\n",
       "    </tr>\n",
       "    <tr>\n",
       "      <th>3</th>\n",
       "      <td>David Kim</td>\n",
       "      <td>42</td>\n",
       "      <td>david.kim@email.com</td>\n",
       "      <td>Designer</td>\n",
       "      <td>True</td>\n",
       "    </tr>\n",
       "    <tr>\n",
       "      <th>4</th>\n",
       "      <td>Eve Turner</td>\n",
       "      <td>30</td>\n",
       "      <td>eve.turner@email.com</td>\n",
       "      <td>Data Analyst</td>\n",
       "      <td>True</td>\n",
       "    </tr>\n",
       "  </tbody>\n",
       "</table>\n",
       "</div>"
      ],
      "text/plain": [
       "          Name  Age                  Email         Occupation  Employed\n",
       "0  Alice Smith   28  alice.smith@email.com     Data Scientist      True\n",
       "1  Bob Johnson   34  bob.johnson@email.com  Software Engineer      True\n",
       "2    Carol Lee   25    carol.lee@email.com    Product Manager      True\n",
       "3    David Kim   42    david.kim@email.com           Designer      True\n",
       "4   Eve Turner   30   eve.turner@email.com      Data Analyst       True"
      ]
     },
     "execution_count": 23,
     "metadata": {},
     "output_type": "execute_result"
    }
   ],
   "source": [
    "df[\"Employed\"] = True\n",
    "df"
   ]
  },
  {
   "cell_type": "code",
   "execution_count": 35,
   "id": "2534f7d1",
   "metadata": {},
   "outputs": [
    {
     "data": {
      "text/html": [
       "<div>\n",
       "<style scoped>\n",
       "    .dataframe tbody tr th:only-of-type {\n",
       "        vertical-align: middle;\n",
       "    }\n",
       "\n",
       "    .dataframe tbody tr th {\n",
       "        vertical-align: top;\n",
       "    }\n",
       "\n",
       "    .dataframe thead th {\n",
       "        text-align: right;\n",
       "    }\n",
       "</style>\n",
       "<table border=\"1\" class=\"dataframe\">\n",
       "  <thead>\n",
       "    <tr style=\"text-align: right;\">\n",
       "      <th></th>\n",
       "      <th>Full Name</th>\n",
       "      <th>Age</th>\n",
       "      <th>Email</th>\n",
       "      <th>Occupation</th>\n",
       "      <th>Employed</th>\n",
       "      <th>Age in 5 Years</th>\n",
       "    </tr>\n",
       "  </thead>\n",
       "  <tbody>\n",
       "    <tr>\n",
       "      <th>0</th>\n",
       "      <td>Alice Smith</td>\n",
       "      <td>28</td>\n",
       "      <td>alice.smith@email.com</td>\n",
       "      <td>Data Scientist</td>\n",
       "      <td>True</td>\n",
       "      <td>33</td>\n",
       "    </tr>\n",
       "    <tr>\n",
       "      <th>1</th>\n",
       "      <td>Bob Johnson</td>\n",
       "      <td>34</td>\n",
       "      <td>bob.johnson@email.com</td>\n",
       "      <td>Software Engineer</td>\n",
       "      <td>True</td>\n",
       "      <td>39</td>\n",
       "    </tr>\n",
       "    <tr>\n",
       "      <th>2</th>\n",
       "      <td>Carol Lee</td>\n",
       "      <td>25</td>\n",
       "      <td>carol.lee@email.com</td>\n",
       "      <td>Product Manager</td>\n",
       "      <td>True</td>\n",
       "      <td>30</td>\n",
       "    </tr>\n",
       "    <tr>\n",
       "      <th>3</th>\n",
       "      <td>David Kim</td>\n",
       "      <td>42</td>\n",
       "      <td>david.kim@email.com</td>\n",
       "      <td>Designer</td>\n",
       "      <td>True</td>\n",
       "      <td>47</td>\n",
       "    </tr>\n",
       "    <tr>\n",
       "      <th>4</th>\n",
       "      <td>Eve Turner</td>\n",
       "      <td>30</td>\n",
       "      <td>eve.turner@email.com</td>\n",
       "      <td>Data Analyst</td>\n",
       "      <td>True</td>\n",
       "      <td>35</td>\n",
       "    </tr>\n",
       "  </tbody>\n",
       "</table>\n",
       "</div>"
      ],
      "text/plain": [
       "     Full Name  Age                  Email         Occupation  Employed  \\\n",
       "0  Alice Smith   28  alice.smith@email.com     Data Scientist      True   \n",
       "1  Bob Johnson   34  bob.johnson@email.com  Software Engineer      True   \n",
       "2    Carol Lee   25    carol.lee@email.com    Product Manager      True   \n",
       "3    David Kim   42    david.kim@email.com           Designer      True   \n",
       "4   Eve Turner   30   eve.turner@email.com      Data Analyst       True   \n",
       "\n",
       "   Age in 5 Years  \n",
       "0              33  \n",
       "1              39  \n",
       "2              30  \n",
       "3              47  \n",
       "4              35  "
      ]
     },
     "execution_count": 35,
     "metadata": {},
     "output_type": "execute_result"
    }
   ],
   "source": [
    "df[\"Age in 5 Years\"] = df[\"Age\"] + 5\n",
    "df"
   ]
  },
  {
   "cell_type": "code",
   "execution_count": 37,
   "id": "ef96fdd9",
   "metadata": {},
   "outputs": [
    {
     "data": {
      "text/html": [
       "<div>\n",
       "<style scoped>\n",
       "    .dataframe tbody tr th:only-of-type {\n",
       "        vertical-align: middle;\n",
       "    }\n",
       "\n",
       "    .dataframe tbody tr th {\n",
       "        vertical-align: top;\n",
       "    }\n",
       "\n",
       "    .dataframe thead th {\n",
       "        text-align: right;\n",
       "    }\n",
       "</style>\n",
       "<table border=\"1\" class=\"dataframe\">\n",
       "  <thead>\n",
       "    <tr style=\"text-align: right;\">\n",
       "      <th></th>\n",
       "      <th>Full Name</th>\n",
       "      <th>Age</th>\n",
       "      <th>Email</th>\n",
       "      <th>Occupation</th>\n",
       "      <th>Employed</th>\n",
       "      <th>Age in 5 Years</th>\n",
       "    </tr>\n",
       "  </thead>\n",
       "  <tbody>\n",
       "    <tr>\n",
       "      <th>0</th>\n",
       "      <td>Alice Smith</td>\n",
       "      <td>28</td>\n",
       "      <td>alice.smith@email.com</td>\n",
       "      <td>Data Scientist</td>\n",
       "      <td>True</td>\n",
       "      <td>33</td>\n",
       "    </tr>\n",
       "    <tr>\n",
       "      <th>1</th>\n",
       "      <td>Bob Johnson</td>\n",
       "      <td>34</td>\n",
       "      <td>bob.johnson@email.com</td>\n",
       "      <td>Software Engineer</td>\n",
       "      <td>True</td>\n",
       "      <td>39</td>\n",
       "    </tr>\n",
       "    <tr>\n",
       "      <th>2</th>\n",
       "      <td>Carol Lee</td>\n",
       "      <td>25</td>\n",
       "      <td>carol.lee@email.com</td>\n",
       "      <td>Product Manager</td>\n",
       "      <td>True</td>\n",
       "      <td>30</td>\n",
       "    </tr>\n",
       "    <tr>\n",
       "      <th>3</th>\n",
       "      <td>David Kim</td>\n",
       "      <td>42</td>\n",
       "      <td>david.kim@email.com</td>\n",
       "      <td>Designer</td>\n",
       "      <td>True</td>\n",
       "      <td>47</td>\n",
       "    </tr>\n",
       "    <tr>\n",
       "      <th>4</th>\n",
       "      <td>Eve Turner</td>\n",
       "      <td>30</td>\n",
       "      <td>eve.turner@email.com</td>\n",
       "      <td>Data Analyst</td>\n",
       "      <td>True</td>\n",
       "      <td>35</td>\n",
       "    </tr>\n",
       "  </tbody>\n",
       "</table>\n",
       "</div>"
      ],
      "text/plain": [
       "     Full Name  Age                  Email         Occupation  Employed  \\\n",
       "0  Alice Smith   28  alice.smith@email.com     Data Scientist      True   \n",
       "1  Bob Johnson   34  bob.johnson@email.com  Software Engineer      True   \n",
       "2    Carol Lee   25    carol.lee@email.com    Product Manager      True   \n",
       "3    David Kim   42    david.kim@email.com           Designer      True   \n",
       "4   Eve Turner   30   eve.turner@email.com      Data Analyst       True   \n",
       "\n",
       "   Age in 5 Years  \n",
       "0              33  \n",
       "1              39  \n",
       "2              30  \n",
       "3              47  \n",
       "4              35  "
      ]
     },
     "execution_count": 37,
     "metadata": {},
     "output_type": "execute_result"
    }
   ],
   "source": [
    "df.rename(columns={\"Name\": \"Full Name\"}, inplace=True)\n",
    "df"
   ]
  },
  {
   "cell_type": "code",
   "execution_count": null,
   "id": "ca89c83c",
   "metadata": {},
   "outputs": [
    {
     "data": {
      "text/html": [
       "<div>\n",
       "<style scoped>\n",
       "    .dataframe tbody tr th:only-of-type {\n",
       "        vertical-align: middle;\n",
       "    }\n",
       "\n",
       "    .dataframe tbody tr th {\n",
       "        vertical-align: top;\n",
       "    }\n",
       "\n",
       "    .dataframe thead th {\n",
       "        text-align: right;\n",
       "    }\n",
       "</style>\n",
       "<table border=\"1\" class=\"dataframe\">\n",
       "  <thead>\n",
       "    <tr style=\"text-align: right;\">\n",
       "      <th></th>\n",
       "      <th>Full Name</th>\n",
       "      <th>Age</th>\n",
       "      <th>Email</th>\n",
       "      <th>Occupation</th>\n",
       "      <th>Age in 5 Years</th>\n",
       "    </tr>\n",
       "  </thead>\n",
       "  <tbody>\n",
       "    <tr>\n",
       "      <th>0</th>\n",
       "      <td>Alice Smith</td>\n",
       "      <td>28</td>\n",
       "      <td>alice.smith@email.com</td>\n",
       "      <td>Data Scientist</td>\n",
       "      <td>33</td>\n",
       "    </tr>\n",
       "    <tr>\n",
       "      <th>1</th>\n",
       "      <td>Bob Johnson</td>\n",
       "      <td>34</td>\n",
       "      <td>bob.johnson@email.com</td>\n",
       "      <td>Software Engineer</td>\n",
       "      <td>39</td>\n",
       "    </tr>\n",
       "    <tr>\n",
       "      <th>2</th>\n",
       "      <td>Carol Lee</td>\n",
       "      <td>25</td>\n",
       "      <td>carol.lee@email.com</td>\n",
       "      <td>Product Manager</td>\n",
       "      <td>30</td>\n",
       "    </tr>\n",
       "    <tr>\n",
       "      <th>3</th>\n",
       "      <td>David Kim</td>\n",
       "      <td>42</td>\n",
       "      <td>david.kim@email.com</td>\n",
       "      <td>Designer</td>\n",
       "      <td>47</td>\n",
       "    </tr>\n",
       "    <tr>\n",
       "      <th>4</th>\n",
       "      <td>Eve Turner</td>\n",
       "      <td>30</td>\n",
       "      <td>eve.turner@email.com</td>\n",
       "      <td>Data Analyst</td>\n",
       "      <td>35</td>\n",
       "    </tr>\n",
       "  </tbody>\n",
       "</table>\n",
       "</div>"
      ],
      "text/plain": [
       "     Full Name  Age                  Email         Occupation  Age in 5 Years\n",
       "0  Alice Smith   28  alice.smith@email.com     Data Scientist              33\n",
       "1  Bob Johnson   34  bob.johnson@email.com  Software Engineer              39\n",
       "2    Carol Lee   25    carol.lee@email.com    Product Manager              30\n",
       "3    David Kim   42    david.kim@email.com           Designer              47\n",
       "4   Eve Turner   30   eve.turner@email.com      Data Analyst               35"
      ]
     },
     "execution_count": 42,
     "metadata": {},
     "output_type": "execute_result"
    }
   ],
   "source": [
    "df.drop(\"Employed\", axis=1)"
   ]
  },
  {
   "cell_type": "code",
   "execution_count": 59,
   "id": "f0166f9f",
   "metadata": {},
   "outputs": [
    {
     "data": {
      "text/html": [
       "<div>\n",
       "<style scoped>\n",
       "    .dataframe tbody tr th:only-of-type {\n",
       "        vertical-align: middle;\n",
       "    }\n",
       "\n",
       "    .dataframe tbody tr th {\n",
       "        vertical-align: top;\n",
       "    }\n",
       "\n",
       "    .dataframe thead th {\n",
       "        text-align: right;\n",
       "    }\n",
       "</style>\n",
       "<table border=\"1\" class=\"dataframe\">\n",
       "  <thead>\n",
       "    <tr style=\"text-align: right;\">\n",
       "      <th></th>\n",
       "      <th>Full Name</th>\n",
       "      <th>Age</th>\n",
       "      <th>Email</th>\n",
       "      <th>Occupation</th>\n",
       "      <th>Employed</th>\n",
       "      <th>Age in 5 Years</th>\n",
       "    </tr>\n",
       "  </thead>\n",
       "  <tbody>\n",
       "    <tr>\n",
       "      <th>0</th>\n",
       "      <td>Alice Smith</td>\n",
       "      <td>28</td>\n",
       "      <td>alice.smith@email.com</td>\n",
       "      <td>Data Scientist</td>\n",
       "      <td>True</td>\n",
       "      <td>33</td>\n",
       "    </tr>\n",
       "    <tr>\n",
       "      <th>1</th>\n",
       "      <td>Bob Johnson</td>\n",
       "      <td>34</td>\n",
       "      <td>bob.johnson@email.com</td>\n",
       "      <td>Software Engineer</td>\n",
       "      <td>True</td>\n",
       "      <td>39</td>\n",
       "    </tr>\n",
       "    <tr>\n",
       "      <th>2</th>\n",
       "      <td>Carol Lee</td>\n",
       "      <td>25</td>\n",
       "      <td>carol.lee@email.com</td>\n",
       "      <td>Product Manager</td>\n",
       "      <td>True</td>\n",
       "      <td>30</td>\n",
       "    </tr>\n",
       "    <tr>\n",
       "      <th>3</th>\n",
       "      <td>David Kim</td>\n",
       "      <td>42</td>\n",
       "      <td>david.kim@email.com</td>\n",
       "      <td>Designer</td>\n",
       "      <td>True</td>\n",
       "      <td>47</td>\n",
       "    </tr>\n",
       "    <tr>\n",
       "      <th>4</th>\n",
       "      <td>Eve Turner</td>\n",
       "      <td>30</td>\n",
       "      <td>eve.turner@email.com</td>\n",
       "      <td>Data Analyst</td>\n",
       "      <td>True</td>\n",
       "      <td>35</td>\n",
       "    </tr>\n",
       "  </tbody>\n",
       "</table>\n",
       "</div>"
      ],
      "text/plain": [
       "     Full Name  Age                  Email         Occupation  Employed  \\\n",
       "0  Alice Smith   28  alice.smith@email.com     Data Scientist      True   \n",
       "1  Bob Johnson   34  bob.johnson@email.com  Software Engineer      True   \n",
       "2    Carol Lee   25    carol.lee@email.com    Product Manager      True   \n",
       "3    David Kim   42    david.kim@email.com           Designer      True   \n",
       "4   Eve Turner   30   eve.turner@email.com      Data Analyst       True   \n",
       "\n",
       "   Age in 5 Years  \n",
       "0              33  \n",
       "1              39  \n",
       "2              30  \n",
       "3              47  \n",
       "4              35  "
      ]
     },
     "execution_count": 59,
     "metadata": {},
     "output_type": "execute_result"
    }
   ],
   "source": [
    "# df.set_index(\"Full Name\", inplace=False)\n",
    "df.reset_index(drop=False)"
   ]
  },
  {
   "cell_type": "code",
   "execution_count": 80,
   "id": "de689231",
   "metadata": {},
   "outputs": [
    {
     "data": {
      "text/plain": [
       "Name          0\n",
       "Age           0\n",
       "Email         0\n",
       "Occupation    1\n",
       "dtype: int64"
      ]
     },
     "execution_count": 80,
     "metadata": {},
     "output_type": "execute_result"
    }
   ],
   "source": [
    "df.isna().sum()"
   ]
  }
 ],
 "metadata": {
  "kernelspec": {
   "display_name": ".venv",
   "language": "python",
   "name": "python3"
  },
  "language_info": {
   "codemirror_mode": {
    "name": "ipython",
    "version": 3
   },
   "file_extension": ".py",
   "mimetype": "text/x-python",
   "name": "python",
   "nbconvert_exporter": "python",
   "pygments_lexer": "ipython3",
   "version": "3.13.5"
  }
 },
 "nbformat": 4,
 "nbformat_minor": 5
}
