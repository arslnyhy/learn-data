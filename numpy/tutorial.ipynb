{
 "cells": [
  {
   "cell_type": "code",
   "execution_count": 24,
   "id": "8b49e629",
   "metadata": {},
   "outputs": [
    {
     "name": "stdout",
     "output_type": "stream",
     "text": [
      "<class 'numpy.ndarray'>\n",
      "int64\n"
     ]
    }
   ],
   "source": [
    "import numpy as np\n",
    "\n",
    "np_array = np.array([1,2,3,4])\n",
    "np_array\n",
    "print(type(np_array))\n",
    "\n",
    "print(np_array.dtype)"
   ]
  },
  {
   "cell_type": "code",
   "execution_count": 3,
   "id": "43d54e9c",
   "metadata": {},
   "outputs": [
    {
     "name": "stdout",
     "output_type": "stream",
     "text": [
      "Python list time: 0.021726131439208984\n",
      "NumPy array time: 0.0009701251983642578\n"
     ]
    }
   ],
   "source": [
    "# list vs numpy array speed test\n",
    "\n",
    "import time\n",
    "\n",
    "size = 1000000\n",
    "\n",
    "py_list = list(range(size))\n",
    "start = time.time()\n",
    "py_result = [x * 2 for x in py_list]\n",
    "print(\"Python list time:\", time.time() - start)\n",
    "\n",
    "np_array = np.arange(size)\n",
    "start = time.time()\n",
    "np_result = np_array * 2\n",
    "print(\"NumPy array time:\", time.time() - start)"
   ]
  },
  {
   "cell_type": "code",
   "execution_count": 4,
   "id": "342bebbc",
   "metadata": {},
   "outputs": [
    {
     "name": "stdout",
     "output_type": "stream",
     "text": [
      "Error with list: can only concatenate list (not \"int\") to list\n",
      "NumPy array + 10: [     10      11      12 ... 1000007 1000008 1000009]\n"
     ]
    }
   ],
   "source": [
    "try:\n",
    "    print(py_list + 10)\n",
    "except Exception as e:\n",
    "    print(\"Error with list:\", e)\n",
    "\n",
    "print(\"NumPy array + 10:\", np_array + 10)"
   ]
  },
  {
   "cell_type": "code",
   "execution_count": 5,
   "id": "befbcc53",
   "metadata": {},
   "outputs": [
    {
     "data": {
      "text/plain": [
       "array([11, 12, 13])"
      ]
     },
     "execution_count": 5,
     "metadata": {},
     "output_type": "execute_result"
    }
   ],
   "source": [
    "# numpy broadcasting\n",
    "arr = np.array([1, 2, 3])\n",
    "arr + 10"
   ]
  },
  {
   "cell_type": "code",
   "execution_count": 25,
   "id": "97e8b6da",
   "metadata": {},
   "outputs": [
    {
     "name": "stdout",
     "output_type": "stream",
     "text": [
      "int64\n"
     ]
    }
   ],
   "source": [
    "a = np.arange(1, 10, 2)\n",
    "print(a.dtype)\n"
   ]
  },
  {
   "cell_type": "code",
   "execution_count": 11,
   "id": "09af703f",
   "metadata": {},
   "outputs": [
    {
     "data": {
      "text/plain": [
       "array([10.        , 10.02040816, 10.04081633, 10.06122449, 10.08163265,\n",
       "       10.10204082, 10.12244898, 10.14285714, 10.16326531, 10.18367347,\n",
       "       10.20408163, 10.2244898 , 10.24489796, 10.26530612, 10.28571429,\n",
       "       10.30612245, 10.32653061, 10.34693878, 10.36734694, 10.3877551 ,\n",
       "       10.40816327, 10.42857143, 10.44897959, 10.46938776, 10.48979592,\n",
       "       10.51020408, 10.53061224, 10.55102041, 10.57142857, 10.59183673,\n",
       "       10.6122449 , 10.63265306, 10.65306122, 10.67346939, 10.69387755,\n",
       "       10.71428571, 10.73469388, 10.75510204, 10.7755102 , 10.79591837,\n",
       "       10.81632653, 10.83673469, 10.85714286, 10.87755102, 10.89795918,\n",
       "       10.91836735, 10.93877551, 10.95918367, 10.97959184, 11.        ])"
      ]
     },
     "execution_count": 11,
     "metadata": {},
     "output_type": "execute_result"
    }
   ],
   "source": [
    "np.linspace(10, 11)\n"
   ]
  },
  {
   "cell_type": "code",
   "execution_count": 13,
   "id": "23ce583c",
   "metadata": {},
   "outputs": [
    {
     "data": {
      "text/plain": [
       "array([1., 1., 1., 1., 1.])"
      ]
     },
     "execution_count": 13,
     "metadata": {},
     "output_type": "execute_result"
    }
   ],
   "source": [
    "np.zeros(5)\n",
    "np.ones(5)"
   ]
  },
  {
   "cell_type": "code",
   "execution_count": 19,
   "id": "50ce4b0f",
   "metadata": {},
   "outputs": [
    {
     "data": {
      "text/plain": [
       "array([[-1, -1]])"
      ]
     },
     "execution_count": 19,
     "metadata": {},
     "output_type": "execute_result"
    }
   ],
   "source": [
    "# a = np.full(5,7)\n",
    "b = np.full((1,2), -1)\n",
    "b"
   ]
  },
  {
   "cell_type": "code",
   "execution_count": 20,
   "id": "49dcd88f",
   "metadata": {},
   "outputs": [
    {
     "data": {
      "text/plain": [
       "array([[1., 0., 0., 0., 0.],\n",
       "       [0., 1., 0., 0., 0.],\n",
       "       [0., 0., 1., 0., 0.],\n",
       "       [0., 0., 0., 1., 0.],\n",
       "       [0., 0., 0., 0., 1.]])"
      ]
     },
     "execution_count": 20,
     "metadata": {},
     "output_type": "execute_result"
    }
   ],
   "source": [
    "np.eye(5)"
   ]
  }
 ],
 "metadata": {
  "kernelspec": {
   "display_name": ".venv",
   "language": "python",
   "name": "python3"
  },
  "language_info": {
   "codemirror_mode": {
    "name": "ipython",
    "version": 3
   },
   "file_extension": ".py",
   "mimetype": "text/x-python",
   "name": "python",
   "nbconvert_exporter": "python",
   "pygments_lexer": "ipython3",
   "version": "3.13.5"
  }
 },
 "nbformat": 4,
 "nbformat_minor": 5
}
